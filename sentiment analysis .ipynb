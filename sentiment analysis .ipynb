{
 "cells": [
  {
   "cell_type": "code",
   "execution_count": 41,
   "metadata": {},
   "outputs": [],
   "source": [
    "import numpy as np \n",
    "import pandas as pd \n",
    "import re\n",
    "import nltk \n",
    "import os\n",
    "import arabic_reshaper\n",
    "from bidi.algorithm import get_display\n",
    "import matplotlib.pyplot as plt\n",
    "%matplotlib inline"
   ]
  },
  {
   "cell_type": "code",
   "execution_count": 42,
   "metadata": {},
   "outputs": [],
   "source": [
    "os.chdir(\"/Users/skydiver/Desktop/abaad/الحبيب\")"
   ]
  },
  {
   "cell_type": "code",
   "execution_count": 43,
   "metadata": {},
   "outputs": [
    {
     "data": {
      "text/plain": [
       "'/Users/skydiver/Desktop/abaad/الحبيب'"
      ]
     },
     "execution_count": 43,
     "metadata": {},
     "output_type": "execute_result"
    }
   ],
   "source": [
    "os.getcwd()"
   ]
  },
  {
   "cell_type": "code",
   "execution_count": 44,
   "metadata": {},
   "outputs": [],
   "source": [
    "tweets = pd.read_csv(\"tweets2.csv\")"
   ]
  },
  {
   "cell_type": "code",
   "execution_count": 45,
   "metadata": {},
   "outputs": [
    {
     "data": {
      "text/html": [
       "<div>\n",
       "<table border=\"1\" class=\"dataframe\">\n",
       "  <thead>\n",
       "    <tr style=\"text-align: right;\">\n",
       "      <th></th>\n",
       "      <th>month</th>\n",
       "      <th>day</th>\n",
       "      <th>year</th>\n",
       "      <th>tweeter</th>\n",
       "      <th>tweet</th>\n",
       "      <th>replies</th>\n",
       "      <th>rt</th>\n",
       "      <th>likes</th>\n",
       "      <th>activity</th>\n",
       "      <th>class</th>\n",
       "    </tr>\n",
       "  </thead>\n",
       "  <tbody>\n",
       "    <tr>\n",
       "      <th>0</th>\n",
       "      <td>3</td>\n",
       "      <td>26</td>\n",
       "      <td>19</td>\n",
       "      <td>سلمان البديني</td>\n",
       "      <td>اليوم في مستشفى الحبيب اردني امام الكاونتر يرف...</td>\n",
       "      <td>0</td>\n",
       "      <td>1224</td>\n",
       "      <td>3123</td>\n",
       "      <td>3123</td>\n",
       "      <td>سلبي</td>\n",
       "    </tr>\n",
       "    <tr>\n",
       "      <th>1</th>\n",
       "      <td>1</td>\n",
       "      <td>23</td>\n",
       "      <td>19</td>\n",
       "      <td>سلطان بن نصيب</td>\n",
       "      <td>يرقد على السرير الأبيض في مستشفى الحبيب التخصص...</td>\n",
       "      <td>502</td>\n",
       "      <td>134</td>\n",
       "      <td>774</td>\n",
       "      <td>1276</td>\n",
       "      <td>محايد</td>\n",
       "    </tr>\n",
       "  </tbody>\n",
       "</table>\n",
       "</div>"
      ],
      "text/plain": [
       "   month  day  year           tweeter  \\\n",
       "0      3   26    19  سلمان البديني      \n",
       "1      1   23    19     سلطان بن نصيب   \n",
       "\n",
       "                                               tweet  replies    rt  likes  \\\n",
       "0  اليوم في مستشفى الحبيب اردني امام الكاونتر يرف...        0  1224   3123   \n",
       "1  يرقد على السرير الأبيض في مستشفى الحبيب التخصص...      502   134    774   \n",
       "\n",
       "   activity  class  \n",
       "0      3123   سلبي  \n",
       "1      1276  محايد  "
      ]
     },
     "execution_count": 45,
     "metadata": {},
     "output_type": "execute_result"
    }
   ],
   "source": [
    "tweets.head(2)"
   ]
  },
  {
   "cell_type": "code",
   "execution_count": 117,
   "metadata": {},
   "outputs": [
    {
     "data": {
      "image/png": "[encoded data removed]",
      "text/plain": [
       "<matplotlib.figure.Figure at 0x12c95d278>"
      ]
     },
     "metadata": {},
     "output_type": "display_data"
    }
   ],
   "source": [
    "tweets.year.value_counts().plot(kind='bar',color='lightblue')\n",
    "title=\"سنة تغريد أكثر التغريدات انتشاراً (من ناحية حجم التفاعل)\"\n",
    "reshaped_text = arabic_reshaper.reshape(title)\n",
    "bidi_text = get_display(reshaped_text)\n",
    "plt.title((bidi_text));"
   ]
  },
  {
   "cell_type": "code",
   "execution_count": 118,
   "metadata": {},
   "outputs": [
    {
     "data": {
      "image/png": "[encoded data removed]",
      "text/plain": [
       "<matplotlib.figure.Figure at 0x12d029898>"
      ]
     },
     "metadata": {},
     "output_type": "display_data"
    }
   ],
   "source": [
    "tweets.day.value_counts().plot(kind='bar',color='lightblue')\n",
    "title=\"أيام تغريد أكثر التغريدات انتشاراً (من ناحية حجم التفاعل)\"\n",
    "reshaped_text = arabic_reshaper.reshape(title)\n",
    "bidi_text = get_display(reshaped_text)\n",
    "plt.title((bidi_text));"
   ]
  },
  {
   "cell_type": "code",
   "execution_count": 119,
   "metadata": {},
   "outputs": [
    {
     "data": {
      "image/png": "[encoded data removed]",
      "text/plain": [
       "<matplotlib.figure.Figure at 0x12e6862b0>"
      ]
     },
     "metadata": {},
     "output_type": "display_data"
    }
   ],
   "source": [
    "tweets.month.value_counts().plot(kind='bar',color='lightblue')\n",
    "title=\"شهور تغريد أكثر التغريدات انتشاراً (من ناحية حجم التفاعل)\"\n",
    "reshaped_text = arabic_reshaper.reshape(title)\n",
    "bidi_text = get_display(reshaped_text)\n",
    "plt.title((bidi_text));"
   ]
  },
  {
   "cell_type": "code",
   "execution_count": 108,
   "metadata": {},
   "outputs": [],
   "source": [
    "#reshape arabic text\n",
    "def reshape(text):\n",
    "    reshaped_text = arabic_reshaper.reshape(text)\n",
    "    bidi_text = get_display(reshaped_text)\n",
    "    return bidi_text"
   ]
  },
  {
   "cell_type": "code",
   "execution_count": 111,
   "metadata": {},
   "outputs": [],
   "source": [
    "#reshape arabic array\n",
    "def reshape_array(text):\n",
    "    new_list=[]\n",
    "    for i in text:\n",
    "        reshaped_text = arabic_reshaper.reshape(i)\n",
    "        bidi_text = get_display(reshaped_text)\n",
    "        new_list.append(bidi_text)\n",
    "    return new_list"
   ]
  },
  {
   "cell_type": "code",
   "execution_count": 121,
   "metadata": {},
   "outputs": [
    {
     "name": "stderr",
     "output_type": "stream",
     "text": [
      "/anaconda3/lib/python3.6/site-packages/pandas/tools/plotting.py:983: UserWarning: 'colors' is being deprecated. Please use 'color'instead of 'colors'\n",
      "  warnings.warn((\"'colors' is being deprecated. Please use 'color'\"\n"
     ]
    },
    {
     "data": {
      "text/plain": [
       "Text(0.5,0,'ﺔﻨﺴﻟﺍ')"
      ]
     },
     "execution_count": 121,
     "metadata": {},
     "output_type": "execute_result"
    },
    {
     "data": {
      "image/png": "[encoded data removed]",
      "text/plain": [
       "<matplotlib.figure.Figure at 0x12c51b240>"
      ]
     },
     "metadata": {},
     "output_type": "display_data"
    }
   ],
   "source": [
    "#find sentiment in years \n",
    "sentiment = tweets.groupby(['year', 'class'])\n",
    "sentiment['class'].count().unstack().plot(kind='bar',colors=['lightblue','grey','pink'])\n",
    "title=\"حجم وتنوع المشاعر خلال السنوات\"\n",
    "plt.title((reshape(title)));\n",
    "colors=['إيجابي','سلبي','محايد']\n",
    "plt.legend(reshape_array(colors))\n",
    "plt.xlabel(reshape('السنة'))"
   ]
  },
  {
   "cell_type": "code",
   "execution_count": 122,
   "metadata": {},
   "outputs": [
    {
     "name": "stderr",
     "output_type": "stream",
     "text": [
      "/anaconda3/lib/python3.6/site-packages/pandas/tools/plotting.py:983: UserWarning: 'colors' is being deprecated. Please use 'color'instead of 'colors'\n",
      "  warnings.warn((\"'colors' is being deprecated. Please use 'color'\"\n"
     ]
    },
    {
     "data": {
      "text/plain": [
       "Text(0.5,0,'ﺮﻬﺸﻟﺍ')"
      ]
     },
     "execution_count": 122,
     "metadata": {},
     "output_type": "execute_result"
    },
    {
     "data": {
      "image/png": "[encoded data removed]",
      "text/plain": [
       "<matplotlib.figure.Figure at 0x12cd7e438>"
      ]
     },
     "metadata": {},
     "output_type": "display_data"
    }
   ],
   "source": [
    "#find sentiment in months \n",
    "sentiment = tweets.groupby(['month', 'class'])\n",
    "sentiment['class'].count().unstack().plot(kind='bar',colors=['lightblue','grey','pink'])\n",
    "title=\"حجم وتنوع المشاعر خلال الشهور\"\n",
    "plt.title((reshape(title)));\n",
    "colors=['إيجابي','سلبي','محايد']\n",
    "plt.legend(reshape_array(colors))\n",
    "plt.xlabel(reshape('الشهر'))"
   ]
  },
  {
   "cell_type": "code",
   "execution_count": 123,
   "metadata": {},
   "outputs": [
    {
     "name": "stderr",
     "output_type": "stream",
     "text": [
      "/anaconda3/lib/python3.6/site-packages/pandas/tools/plotting.py:983: UserWarning: 'colors' is being deprecated. Please use 'color'instead of 'colors'\n",
      "  warnings.warn((\"'colors' is being deprecated. Please use 'color'\"\n"
     ]
    },
    {
     "data": {
      "text/plain": [
       "Text(0.5,0,'ﻡﻮﻴﻟﺍ')"
      ]
     },
     "execution_count": 123,
     "metadata": {},
     "output_type": "execute_result"
    },
    {
     "data": {
      "image/png": "[encoded data removed]",
      "text/plain": [
       "<matplotlib.figure.Figure at 0x12e316518>"
      ]
     },
     "metadata": {},
     "output_type": "display_data"
    }
   ],
   "source": [
    "#find sentiment in days \n",
    "sentiment = tweets.groupby(['day', 'class'])\n",
    "sentiment['class'].count().unstack().plot(kind='bar',colors=['lightblue','grey','pink'])\n",
    "title=\"حجم وتنوع المشاعر خلال الأيام\"\n",
    "plt.title((reshape(title)));\n",
    "colors=['إيجابي','سلبي','محايد']\n",
    "plt.legend(reshape_array(colors))\n",
    "plt.xlabel(reshape('اليوم'))"
   ]
  },
  {
   "cell_type": "code",
   "execution_count": null,
   "metadata": {},
   "outputs": [],
   "source": []
  }
 ],
 "metadata": {
  "kernelspec": {
   "display_name": "Python 3",
   "language": "python",
   "name": "python3"
  },
  "language_info": {
   "codemirror_mode": {
    "name": "ipython",
    "version": 3
   },
   "file_extension": ".py",
   "mimetype": "text/x-python",
   "name": "python",
   "nbconvert_exporter": "python",
   "pygments_lexer": "ipython3",
   "version": "3.6.3"
  }
 },
 "nbformat": 4,
 "nbformat_minor": 2
}
